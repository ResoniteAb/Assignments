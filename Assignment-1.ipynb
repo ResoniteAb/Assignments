{
 "cells": [
  {
   "cell_type": "markdown",
   "id": "203d446d",
   "metadata": {},
   "source": [
    "### Ques.1 Explain with an example each when to use a for loop and a while loop."
   ]
  },
  {
   "cell_type": "markdown",
   "id": "980de303",
   "metadata": {},
   "source": [
    "### Ans. For Loop :-> A for loop is used to repeat a specific block of code a known number of time. And it is used for sequential traversal such as traversing a list, string and array."
   ]
  },
  {
   "cell_type": "markdown",
   "id": "224e8147",
   "metadata": {},
   "source": [
    "Example of For Loop: "
   ]
  },
  {
   "cell_type": "code",
   "execution_count": 1,
   "id": "a9bb623f",
   "metadata": {},
   "outputs": [
    {
     "name": "stdout",
     "output_type": "stream",
     "text": [
      "A\n",
      "b\n",
      "h\n",
      "i\n",
      "s\n",
      "h\n",
      "e\n",
      "k\n",
      " \n",
      "C\n",
      "h\n",
      "a\n",
      "u\n",
      "h\n",
      "a\n",
      "n\n"
     ]
    }
   ],
   "source": [
    "for x in 'Abhishek Chauhan':\n",
    "    print(x)"
   ]
  },
  {
   "cell_type": "markdown",
   "id": "5d27e992",
   "metadata": {},
   "source": [
    "### while Loop:-> A while loop is used to repeatedly execute a certain statement as long as the condition provided in the while loop statement stays true."
   ]
  },
  {
   "cell_type": "raw",
   "id": "c919fb24",
   "metadata": {},
   "source": [
    "Example of While Loop:"
   ]
  },
  {
   "cell_type": "code",
   "execution_count": 3,
   "id": "b01b48d6",
   "metadata": {},
   "outputs": [
    {
     "name": "stdout",
     "output_type": "stream",
     "text": [
      "4\n",
      "3\n",
      "2\n",
      "1\n"
     ]
    }
   ],
   "source": [
    "a = [1,2,3,4]\n",
    "while a:\n",
    "    print(a.pop())"
   ]
  },
  {
   "cell_type": "markdown",
   "id": "46eb70ce",
   "metadata": {},
   "source": [
    "### Ques.2 Write a python program to print the sum and product of the first 10 natural numbers using for and while loop."
   ]
  },
  {
   "cell_type": "markdown",
   "id": "65a8dc38",
   "metadata": {},
   "source": [
    "### Ans: "
   ]
  },
  {
   "cell_type": "code",
   "execution_count": 15,
   "id": "91a3cd51",
   "metadata": {},
   "outputs": [
    {
     "name": "stdout",
     "output_type": "stream",
     "text": [
      "Using a for loop:\n",
      "Sum: 55\n",
      "Product: 3628800\n"
     ]
    }
   ],
   "source": [
    "numbers = range(1, 11)\n",
    "\n",
    "sum_result = 0\n",
    "for num in numbers:\n",
    "    sum_result = sum_result + num\n",
    "    \n",
    "product_result = 1\n",
    "for num in numbers:\n",
    "    product_result = product_result*num\n",
    "    \n",
    "print(\"Using a for loop:\")\n",
    "print(\"Sum:\", sum_result)\n",
    "print(\"Product:\", product_result)"
   ]
  },
  {
   "cell_type": "code",
   "execution_count": 16,
   "id": "3a12ba9e",
   "metadata": {},
   "outputs": [
    {
     "name": "stdout",
     "output_type": "stream",
     "text": [
      "Using a while loop:\n",
      "Sum: 55\n",
      "Product: 3628800\n"
     ]
    }
   ],
   "source": [
    "numbers = list(range(1, 11))\n",
    "\n",
    "sum_result = 0\n",
    "index = 0\n",
    "while index < len(numbers):\n",
    "    sum_result = sum_result + numbers[index]\n",
    "    index = index + 1\n",
    "\n",
    "\n",
    "product_result = 1\n",
    "index = 0\n",
    "while index < len(numbers):\n",
    "    product_result = product_result * numbers[index]\n",
    "    index = index + 1\n",
    "\n",
    "\n",
    "print(\"Using a while loop:\")\n",
    "print(\"Sum:\", sum_result)\n",
    "print(\"Product:\", product_result)"
   ]
  },
  {
   "cell_type": "markdown",
   "id": "1d39c0a7",
   "metadata": {},
   "source": [
    "### Ques.3 Create a python program to compute the electricity bill for a household.\n",
    "### The per_unit charges in rupees are as follows:For the first 100 units,the user will be charged Rs. 4.5 per unit, for the next 100 units , the user will be charged Rs. 6 per unit , and for the next 100 units , the user will be charged Rs. 10 per unit, After 300 units and above the user will be charged Rs. 20 per unit.\n",
    "### You are required to take the units of electricity consumed in a month from the user as input.\n",
    "### Your program must pass this test case: when the unit of electricity consumed by the user in a month is\n",
    "### 310, the total electricity bill should be 2250."
   ]
  },
  {
   "cell_type": "markdown",
   "id": "0335493b",
   "metadata": {},
   "source": [
    "### Ans:"
   ]
  },
  {
   "cell_type": "code",
   "execution_count": 7,
   "id": "9bff18bd",
   "metadata": {},
   "outputs": [
    {
     "name": "stdout",
     "output_type": "stream",
     "text": [
      "Enter the units consumed: 310\n",
      "The electricity bill for 310 units is: 2250.0\n"
     ]
    }
   ],
   "source": [
    "def calculate_electricity_bill(units):\n",
    "    total_bill = 0\n",
    "\n",
    "    if units <= 100:\n",
    "        total_bill = units * 4.5\n",
    "    elif units <= 200:\n",
    "        total_bill = (100 * 4.5) + ((units - 100) * 6)\n",
    "    elif units <= 300:\n",
    "        total_bill = (100 * 4.5) + (100 * 6) + ((units - 200) * 10)\n",
    "    else:\n",
    "        total_bill = (100 * 4.5) + (100 * 6) + (100 * 10) + ((units - 300) * 20)\n",
    "\n",
    "    return total_bill\n",
    "\n",
    "units_consumed = int(input(\"Enter the units consumed: \"))\n",
    "\n",
    "bill_amount = calculate_electricity_bill(units_consumed)\n",
    "\n",
    "print(\"The electricity bill for {} units is: {}\".format(units_consumed, bill_amount))"
   ]
  },
  {
   "cell_type": "markdown",
   "id": "15181d29",
   "metadata": {},
   "source": [
    "### Ques.4  Create a list of numbers from 1 to 100. Use for loop and while loop to calculate the cube of each number and if the cube of that number is divisible by 4 or 5 then append that number in a list and print that list."
   ]
  },
  {
   "cell_type": "markdown",
   "id": "2393db78",
   "metadata": {},
   "source": [
    "### Ans:"
   ]
  },
  {
   "cell_type": "code",
   "execution_count": 10,
   "id": "f958ed89",
   "metadata": {},
   "outputs": [
    {
     "name": "stdout",
     "output_type": "stream",
     "text": [
      "Using a for loop:\n",
      "[2, 4, 5, 6, 8, 10, 12, 14, 15, 16, 18, 20, 22, 24, 25, 26, 28, 30, 32, 34, 35, 36, 38, 40, 42, 44, 45, 46, 48, 50, 52, 54, 55, 56, 58, 60, 62, 64, 65, 66, 68, 70, 72, 74, 75, 76, 78, 80, 82, 84, 85, 86, 88, 90, 92, 94, 95, 96, 98, 100]\n"
     ]
    }
   ],
   "source": [
    "numbers = list(range(1, 101))\n",
    "cubes_list = []\n",
    "\n",
    "for num in numbers:\n",
    "    cube = num ** 3\n",
    "    if cube % 4 == 0 or cube % 5 == 0:\n",
    "        cubes_list.append(num)\n",
    "\n",
    "print(\"Using a for loop:\")\n",
    "print(cubes_list)"
   ]
  },
  {
   "cell_type": "code",
   "execution_count": 17,
   "id": "5a0343f1",
   "metadata": {},
   "outputs": [
    {
     "name": "stdout",
     "output_type": "stream",
     "text": [
      "Using a while loop:\n",
      "[2, 4, 5, 6, 8, 10, 12, 14, 15, 16, 18, 20, 22, 24, 25, 26, 28, 30, 32, 34, 35, 36, 38, 40, 42, 44, 45, 46, 48, 50, 52, 54, 55, 56, 58, 60, 62, 64, 65, 66, 68, 70, 72, 74, 75, 76, 78, 80, 82, 84, 85, 86, 88, 90, 92, 94, 95, 96, 98, 100]\n"
     ]
    }
   ],
   "source": [
    "numbers = list(range(1, 101))\n",
    "cubes_list = []\n",
    "\n",
    "index = 0\n",
    "while index < len(numbers):\n",
    "    num = numbers[index]\n",
    "    cube = num ** 3\n",
    "    if cube % 4 == 0 or cube % 5 == 0:\n",
    "        cubes_list.append(num)\n",
    "    index = index + 1\n",
    "\n",
    "print(\"Using a while loop:\")\n",
    "print(cubes_list)"
   ]
  },
  {
   "cell_type": "markdown",
   "id": "2d1e4a9c",
   "metadata": {},
   "source": [
    "### Ques.5 Write a program to filter count vowels in the below-given string.\n",
    "### string = \"I want to become a data scientist\""
   ]
  },
  {
   "cell_type": "markdown",
   "id": "1fbc7749",
   "metadata": {},
   "source": [
    "### Ans:"
   ]
  },
  {
   "cell_type": "code",
   "execution_count": 14,
   "id": "55add4d2",
   "metadata": {},
   "outputs": [
    {
     "name": "stdout",
     "output_type": "stream",
     "text": [
      "The number of vowels in the string is: 12\n"
     ]
    }
   ],
   "source": [
    "def count_vowels(string):\n",
    "    vowels = \"aeiouAEIOU\"\n",
    "    vowel_count = 0\n",
    "\n",
    "    for char in string:\n",
    "        if char in vowels:\n",
    "            vowel_count = vowel_count + 1\n",
    "\n",
    "    return vowel_count\n",
    "\n",
    "string = \"I want to become a data scientist\"\n",
    "\n",
    "vowel_count = count_vowels(string)\n",
    "\n",
    "print(\"The number of vowels in the string is:\", vowel_count)"
   ]
  },
  {
   "cell_type": "code",
   "execution_count": null,
   "id": "f86cdde8",
   "metadata": {},
   "outputs": [],
   "source": []
  }
 ],
 "metadata": {
  "kernelspec": {
   "display_name": "Python 3 (ipykernel)",
   "language": "python",
   "name": "python3"
  },
  "language_info": {
   "codemirror_mode": {
    "name": "ipython",
    "version": 3
   },
   "file_extension": ".py",
   "mimetype": "text/x-python",
   "name": "python",
   "nbconvert_exporter": "python",
   "pygments_lexer": "ipython3",
   "version": "3.9.12"
  }
 },
 "nbformat": 4,
 "nbformat_minor": 5
}
